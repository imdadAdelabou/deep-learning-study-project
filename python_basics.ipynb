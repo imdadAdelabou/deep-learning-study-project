{
 "cells": [
  {
   "cell_type": "code",
   "execution_count": 855,
   "metadata": {},
   "outputs": [],
   "source": [
    "with open('text.txt', 'r', encoding=\"utf-8\") as f:\n",
    "    text = f.read()"
   ]
  },
  {
   "cell_type": "code",
   "execution_count": 856,
   "metadata": {},
   "outputs": [
    {
     "data": {
      "text/plain": [
       "'The master is a person of an excellent disposition and is remarkable in the ship for his gentleness and the mildness of his discipline. This circumstance, added to his well-known integrity and dauntless courage, made me very desirous to engage him. A youth passed in solitude, my best years spent under your gentle and feminine fosterage, has so refined the groundwork of my character that I cannot overcome an intense distaste to the usual brutality exercised on board ship: I have never believed it to be necessary, and when I heard of a mariner equally noted for his kindliness of heart and the respect and obedience paid to him by his crew, I felt myself peculiarly fortunate in being able to secure his services. I heard of him first in rather a romantic manner, from a lady who owes to him the happiness of her life. This, briefly, is his story. Some years ago he loved a young Russian lady of moderate fortune, and having amassed a considerable sum in prize-money, the father of the girl consented to the match. He saw his mistress once before the destined ceremony; but she was bathed in tears, and throwing herself at his feet, entreated him to spare her, confessing at the same time that she loved another, but that he was poor, and that her father would never consent to the union. My generous friend reassured the suppliant, and on being informed of the name of her lover, instantly abandoned his pursuit. He had already bought a farm with his money, on which he had designed to pass the remainder of his life; but he bestowed the whole on his rival, together with the remains of his prize-money to purchase stock, and then himself solicited the young woman’s father to consent to her marriage with her lover. But the old man decidedly refused, thinking himself bound in honour to my friend, who, when he found the father inexorable, quitted his country, nor returned until he heard that his former mistress was married according to her inclinations. “What a noble fellow!” you will exclaim. He is so; but then he is wholly uneducated: he is as silent as a Turk, and a kind of ignorant carelessness attends him, which, while it renders his conduct the more astonishing, detracts from the interest and sympathy which otherwise he would command.'"
      ]
     },
     "execution_count": 856,
     "metadata": {},
     "output_type": "execute_result"
    }
   ],
   "source": [
    "text"
   ]
  },
  {
   "cell_type": "code",
   "execution_count": null,
   "metadata": {},
   "outputs": [],
   "source": []
  },
  {
   "cell_type": "code",
   "execution_count": 857,
   "metadata": {},
   "outputs": [],
   "source": [
    "def clean_text(text):\n",
    "    ponctuation = ['.', ',', '!', '?', ':', ';']\n",
    "    text = text.lower()\n",
    "    text = ''.join([c for c in text if c not in ponctuation])\n",
    "    return text"
   ]
  },
  {
   "cell_type": "code",
   "execution_count": 858,
   "metadata": {},
   "outputs": [],
   "source": [
    "def number_of_words(text):\n",
    "    return len(text.split())"
   ]
  },
  {
   "cell_type": "code",
   "execution_count": 859,
   "metadata": {},
   "outputs": [],
   "source": [
    "def number_of_sentences(text):\n",
    "    return len(text.split('.'))"
   ]
  },
  {
   "cell_type": "code",
   "execution_count": 860,
   "metadata": {},
   "outputs": [],
   "source": [
    "def number_of_unique_words(text):\n",
    "    text = clean_text(text)\n",
    "    return len(set(text.split()))"
   ]
  },
  {
   "cell_type": "code",
   "execution_count": 861,
   "metadata": {},
   "outputs": [],
   "source": [
    "def word_length(text):\n",
    "    text = clean_text(text)\n",
    "    words = text.split()\n",
    "    max_length = max([len(word) for word in words])\n",
    "    min_length = min([len(word) for word in words])\n",
    "    average_length = sum([len(word) for word in words]) / len(words)\n",
    "    return max_length, min_length, average_length"
   ]
  },
  {
   "cell_type": "code",
   "execution_count": 862,
   "metadata": {},
   "outputs": [],
   "source": [
    "def vocabulary(text):\n",
    "    text = text.lower()\n",
    "    with_symbols = set(text)\n",
    "    without_symbols = set([c for c in text if c.isalpha()])\n",
    "    return with_symbols, without_symbols"
   ]
  },
  {
   "cell_type": "code",
   "execution_count": 863,
   "metadata": {},
   "outputs": [],
   "source": [
    "def starting(text, char):\n",
    "    text = clean_text(text)\n",
    "    words = text.split()\n",
    "    start = [word for word in words if word[0] == char]\n",
    "    return start"
   ]
  },
  {
   "cell_type": "code",
   "execution_count": 864,
   "metadata": {},
   "outputs": [],
   "source": [
    "def ending(text, char):\n",
    "    text = clean_text(text)\n",
    "    words = text.split()\n",
    "    end = [word for word in words if word[-1] == char]\n",
    "    return end"
   ]
  },
  {
   "cell_type": "code",
   "execution_count": 865,
   "metadata": {},
   "outputs": [],
   "source": [
    "def containing(text, substing):\n",
    "    text = clean_text(text)\n",
    "    words = text.split()\n",
    "    contain = [word for word in words if substing in word]\n",
    "    return contain"
   ]
  },
  {
   "cell_type": "code",
   "execution_count": 866,
   "metadata": {},
   "outputs": [],
   "source": [
    "def most_frequent(text):\n",
    "    text = clean_text(text)\n",
    "    words = text.split()\n",
    "    return max(set(words), key = words.count)"
   ]
  },
  {
   "cell_type": "code",
   "execution_count": 867,
   "metadata": {},
   "outputs": [],
   "source": [
    "def most_frequent_substring_length_4(text):\n",
    "    text = clean_text(text)\n",
    "    words = text.split()\n",
    "    substring = [word[i:i+4] for word in words for i in range(len(word)-3)]\n",
    "    return max(set(substring), key = substring.count)\n",
    "    \n",
    "    "
   ]
  },
  {
   "cell_type": "code",
   "execution_count": 868,
   "metadata": {},
   "outputs": [
    {
     "name": "stdout",
     "output_type": "stream",
     "text": [
      "Number of words:  395\n",
      "Number of unique words:  216\n",
      "Number of sentences:  13\n",
      "Word length:  (12, 1, 4.589873417721519)\n",
      "Vocabulary with symbols:  {'y', 'n', '“', 'x', ':', 'k', 'q', '-', 'v', 't', ',', 'g', 'h', 'f', 'm', 'l', '”', 's', ' ', 'i', 'w', ';', 'b', 'r', 'e', 'p', 'u', 'd', 'o', 'z', '!', '.', 'a', 'c', '’'}\n",
      "Vocabulary without symbols:  {'y', 'n', 'x', 'k', 'q', 'v', 't', 'g', 'h', 'f', 'm', 'l', 's', 'i', 'w', 'b', 'r', 'e', 'p', 'u', 'd', 'o', 'z', 'a', 'c'}\n",
      "Words starting with \"a\":  ['a', 'an', 'and', 'and', 'added', 'and', 'a', 'and', 'an', 'and', 'a', 'and', 'and', 'able', 'a', 'a', 'ago', 'a', 'and', 'amassed', 'a', 'and', 'at', 'at', 'another', 'and', 'and', 'abandoned', 'already', 'a', 'and', 'according', 'a', 'as', 'as', 'a', 'and', 'a', 'attends', 'astonishing', 'and']\n",
      "Words ending with \"e\":  ['the', 'remarkable', 'the', 'the', 'discipline', 'circumstance', 'courage', 'made', 'me', 'engage', 'solitude', 'gentle', 'feminine', 'fosterage', 'the', 'overcome', 'intense', 'distaste', 'the', 'have', 'be', 'the', 'obedience', 'fortunate', 'able', 'secure', 'the', 'life', 'some', 'he', 'moderate', 'fortune', 'considerable', 'the', 'the', 'the', 'he', 'once', 'before', 'the', 'she', 'spare', 'the', 'same', 'time', 'she', 'he', 'the', 'the', 'the', 'name', 'he', 'he', 'the', 'life', 'he', 'the', 'whole', 'the', 'purchase', 'the', 'marriage', 'the', 'he', 'the', 'inexorable', 'he', 'noble', 'he', 'he', 'he', 'while', 'the', 'more', 'the', 'otherwise', 'he']\n",
      "Words containing \"a\":  ['added', 'made', 'lady', 'lady', 'had', 'already', 'had']\n",
      "Most frequent character:  the\n",
      "Most frequent substring:  ther\n"
     ]
    }
   ],
   "source": [
    "print('Number of words: ', number_of_words(text))\n",
    "print('Number of unique words: ', number_of_unique_words(text))\n",
    "print('Number of sentences: ', number_of_sentences(text))\n",
    "print('Word length: ', word_length(text))\n",
    "print('Vocabulary with symbols: ', vocabulary(text)[0])\n",
    "print('Vocabulary without symbols: ', vocabulary(text)[1])\n",
    "print('Words starting with \"a\": ', starting(text, 'a'))\n",
    "print('Words ending with \"e\": ', ending(text, 'e'))\n",
    "print('Words containing \"a\": ', containing(text, 'ad'))\n",
    "print('Most frequent character: ', most_frequent(text))\n",
    "print('Most frequent substring: ', most_frequent_substring_length_4(text))"
   ]
  },
  {
   "cell_type": "code",
   "execution_count": 869,
   "metadata": {},
   "outputs": [],
   "source": [
    "import regex as re"
   ]
  },
  {
   "cell_type": "code",
   "execution_count": 870,
   "metadata": {},
   "outputs": [],
   "source": [
    "import re\n",
    "class Corpus:\n",
    "    def __init__(self, text):\n",
    "        self.text = text\n",
    "\n",
    "    def clean_text(self, text):\n",
    "        ponctuation = ['.', ',', '!', '?', ':', ';', \"“\", \"”\"]\n",
    "        self.text = self.text.lower()\n",
    "        text = ''.join([c for c in text if c not in ponctuation])\n",
    "        text = text.replace('“', '').replace('”', '')\n",
    "        return text\n",
    "\n",
    "    def number_of_words(self):\n",
    "        return len(self.text.split())\n",
    "\n",
    "    def number_of_sentences(self):\n",
    "        return len(self.text.split('.'))\n",
    "\n",
    "    def number_of_unique_words(self):\n",
    "        return len(set(self.text.split()))\n",
    "\n",
    "    def word_length(self):\n",
    "        text = self.clean_text(self.text)\n",
    "        words = text.split()\n",
    "        max_length = max([len(word) for word in words])\n",
    "        min_length = min([len(word) for word in words])\n",
    "        average_length = sum([len(word) for word in words]) / len(words)\n",
    "        return max_length, min_length, average_length\n",
    "\n",
    "    def vocabulary(self):\n",
    "        text = self.text.lower()\n",
    "        with_symbols = set(text)\n",
    "        without_symbols = set([c for c in text if c.isalpha()])\n",
    "        return with_symbols, without_symbols\n",
    "\n",
    "    def starting(self, char):\n",
    "        text = self.clean_text(self.text)\n",
    "        words = text.split()\n",
    "        start = [word for word in words if word[0] == char]\n",
    "        return start\n",
    "\n",
    "    def ending(self, char):\n",
    "        text = self.clean_text(self.text)\n",
    "        words = text.split()\n",
    "        end = [word for word in words if word[-1] == char]\n",
    "        return end\n",
    "\n",
    "    def containing(self, substing):\n",
    "        text = self.clean_text(self.text)\n",
    "        words = text.split()\n",
    "        contain = [word for word in words if substing in word]\n",
    "        return contain\n",
    "\n",
    "    def most_frequent(self):\n",
    "        text = self.clean_text(self.text)\n",
    "        words = text.split()\n",
    "        return max(set(words), key=words.count)\n",
    "\n",
    "    def most_frequent_substring_length_4(self):\n",
    "        text = self.clean_text(self.text)\n",
    "        words = text.split()\n",
    "        substring = [\n",
    "            word[i:i + 4] for word in words for i in range(len(word) - 3)\n",
    "        ]\n",
    "        return max(set(substring), key=substring.count)\n",
    "\n",
    "    def find_substring(self, substring):\n",
    "        substring_length = len(substring)\n",
    "        position = [(True,\n",
    "                     i) if self.text[i:i + substring_length] == substring else\n",
    "                    (False, None)\n",
    "                    for i in range(len(self.text) - substring_length)]\n",
    "        return position\n",
    "\n",
    "    def most_and_least_occurences(self):\n",
    "        text = self.clean_text(self.text)\n",
    "        words = list(text.replace(' ', ''))\n",
    "\n",
    "        most_frequent = max(set(words), key=words.count)\n",
    "        least_frequent = min(set(words), key=words.count)\n",
    "        return most_frequent, least_frequent\n",
    "\n",
    "    def is_anagram(self, word1, word2):\n",
    "        return sorted(word1) == sorted(word2)\n",
    "\n",
    "    def sentences(self):\n",
    "        # Exclude decimal numbers, domain names, and abbreviations from the split pattern\n",
    "        split_pattern = r'(?<!\\d\\.)\\s*[.!?]+\\s+(?!\\w)|(?<=\\w)\\.(?=\\w)(?<!etc\\.)'\n",
    "        sentences = re.split(split_pattern, self.text)\n",
    "        return sentences\n"
   ]
  },
  {
   "cell_type": "code",
   "execution_count": 871,
   "metadata": {},
   "outputs": [],
   "source": [
    "a = Corpus(text)"
   ]
  },
  {
   "cell_type": "code",
   "execution_count": 872,
   "metadata": {},
   "outputs": [
    {
     "data": {
      "text/plain": [
       "('e', 'B')"
      ]
     },
     "execution_count": 872,
     "metadata": {},
     "output_type": "execute_result"
    }
   ],
   "source": [
    "a.most_and_least_occurences()"
   ]
  },
  {
   "cell_type": "code",
   "execution_count": null,
   "metadata": {},
   "outputs": [],
   "source": []
  }
 ],
 "metadata": {
  "kernelspec": {
   "display_name": "ds3.10",
   "language": "python",
   "name": "python3"
  },
  "language_info": {
   "codemirror_mode": {
    "name": "ipython",
    "version": 3
   },
   "file_extension": ".py",
   "mimetype": "text/x-python",
   "name": "python",
   "nbconvert_exporter": "python",
   "pygments_lexer": "ipython3",
   "version": "3.10.10"
  },
  "orig_nbformat": 4
 },
 "nbformat": 4,
 "nbformat_minor": 2
}

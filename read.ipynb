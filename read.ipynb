{
 "cells": [
  {
   "cell_type": "code",
   "execution_count": 6,
   "metadata": {},
   "outputs": [],
   "source": [
    "import requests\n",
    "from bs4 import BeautifulSoup\n",
    "import time\n",
    "import json\n",
    "from tqdm import tqdm"
   ]
  },
  {
   "cell_type": "code",
   "execution_count": 7,
   "metadata": {},
   "outputs": [
    {
     "name": "stderr",
     "output_type": "stream",
     "text": [
      "100%|██████████| 1/1 [00:03<00:00,  3.72s/it]\n",
      "100%|██████████| 12/12 [00:34<00:00,  2.92s/it]\n"
     ]
    }
   ],
   "source": [
    "headers = {\"User-Agent\": \"Mozilla/5.0 (Windows NT 10.0; Win64; x64) AppleWebKit/537.36 (KHTML, like Gecko) Chrome/111.0.0.0 Safari/537.36\"}\n",
    "session = requests.Session()\n",
    "\n",
    "article_urls = []\n",
    "category = []\n",
    "headers_list = []\n",
    "article_summary = []\n",
    "author_list = []\n",
    "date_list = []\n",
    "\n",
    "# Step 1: Collect article urls and summaries\n",
    "for page in tqdm(range(1, 2)):\n",
    "    page_url = f'https://www.snexplores.org/all-stories/page/{page}'\n",
    "    resp = session.get(page_url, headers=headers)\n",
    "    soup = BeautifulSoup(resp.content, 'html.parser')\n",
    "    if not soup.find_all('div', class_='post-item-river__content___Y9C70'):\n",
    "        break\n",
    "    blocks = soup.find_all('div', class_='post-item-river__content___Y9C70')\n",
    "    category.extend([block.find('a').get_text(strip=True) for block in blocks])\n",
    "    headers_list.extend([block.find('h3').get_text(strip=True) for block in blocks])\n",
    "    author_list.extend([block.find('span').get_text(strip=True) for block in blocks])\n",
    "    date_list.extend([block.find('time').get_text(strip=True) for block in blocks])\n",
    "    article_urls.extend([block.find_all('a')[1].get('href') for block in blocks])\n",
    "    article_summary.extend([block.find('p').get_text(strip=True) if block.find('p') else '' for block in blocks])\n",
    "    time.sleep(2)\n",
    "\n",
    "# Step 2: Loop over article urls and scrape information\n",
    "articles = []\n",
    "for url in tqdm(article_urls):\n",
    "    index = article_urls.index(url)\n",
    "    resp = session.get(url, headers=headers)\n",
    "    soup = BeautifulSoup(resp.content, 'lxml')\n",
    "    \n",
    "    article = {\n",
    "        \"url\": url,\n",
    "        \"category\": category[index],\n",
    "        \"header\": headers_list[index],\n",
    "        \"summary\": article_summary[index],\n",
    "        \"author\": author_list[index],\n",
    "        \"date\": date_list[index],\n",
    "        \"article_text\": \" \".join(p.get_text(strip=True) for p in soup.select('div.rich-text.single__rich-text___DT62t p') if not p.find_parent('figure'))\n",
    "    }\n",
    "    \n",
    "    \n",
    "    try:\n",
    "        article[\"power_words\"] = soup.find('div', class_='power-words-container').get_text(strip=True)\n",
    "    except AttributeError:\n",
    "        article[\"power_words\"] = None\n",
    "    \n",
    "    articles.append(article)\n",
    "    time.sleep(2)\n"
   ]
  },
  {
   "cell_type": "code",
   "execution_count": 8,
   "metadata": {},
   "outputs": [],
   "source": [
    "with open(\"articles.json\", \"w\", encoding=\"UTF-8\") as f:\n",
    "    json.dump(articles, f, ensure_ascii=False)"
   ]
  },
  {
   "cell_type": "code",
   "execution_count": 9,
   "metadata": {},
   "outputs": [],
   "source": [
    "import pandas as pd\n",
    "df = pd.read_json('articles.json')\n",
    "pd.set_option('display.max_colwidth', 200)"
   ]
  },
  {
   "cell_type": "code",
   "execution_count": 15,
   "metadata": {},
   "outputs": [
    {
     "data": {
      "text/plain": [
       "'This is another in our new series identifying technologies and actions that can slow climate change, reduce its impacts or help communities cope with a rapidly changing world. CHICAGO— Native people i'"
      ]
     },
     "execution_count": 15,
     "metadata": {},
     "output_type": "execute_result"
    }
   ],
   "source": [
    "df['article_text'][1][0:200]"
   ]
  },
  {
   "cell_type": "code",
   "execution_count": 17,
   "metadata": {},
   "outputs": [
    {
     "ename": "",
     "evalue": "",
     "output_type": "error",
     "traceback": [
      "\u001b[1;31mCanceled future for execute_request message before replies were done"
     ]
    },
    {
     "ename": "",
     "evalue": "",
     "output_type": "error",
     "traceback": [
      "\u001b[1;31mThe Kernel crashed while executing code in the the current cell or a previous cell. Please review the code in the cell(s) to identify a possible cause of the failure. Click <a href='https://aka.ms/vscodeJupyterKernelCrash'>here</a> for more info. View Jupyter <a href='command:jupyter.viewOutput'>log</a> for further details."
     ]
    }
   ],
   "source": [
    "from transformers import AutoTokenizer, AutoModelForSeq2SeqLM\n",
    "\n",
    "tokenizer = AutoTokenizer.from_pretrained(\"potsawee/t5-large-generation-race-QuestionAnswer\")\n",
    "model = AutoModelForSeq2SeqLM.from_pretrained(\"potsawee/t5-large-generation-race-QuestionAnswer\")\n",
    "\n",
    "context = df['article_text'][1][0:300]\n",
    "print(context)\n",
    "inputs = tokenizer(context, return_tensors=\"pt\")\n",
    "outputs = model.generate(**inputs, max_length=100)\n",
    "question_answer = tokenizer.decode(outputs[0], skip_special_tokens=False)\n",
    "question_answer = question_answer.replace(tokenizer.pad_token, \"\").replace(tokenizer.eos_token, \"\")\n",
    "question, answer = question_answer.split(tokenizer.sep_token)\n",
    "\n",
    "print(\"question:\", question)\n",
    "print(\"answer:\", answer)\n"
   ]
  },
  {
   "cell_type": "code",
   "execution_count": null,
   "metadata": {},
   "outputs": [],
   "source": []
  }
 ],
 "metadata": {
  "kernelspec": {
   "display_name": "ds3.10",
   "language": "python",
   "name": "python3"
  },
  "language_info": {
   "codemirror_mode": {
    "name": "ipython",
    "version": 3
   },
   "file_extension": ".py",
   "mimetype": "text/x-python",
   "name": "python",
   "nbconvert_exporter": "python",
   "pygments_lexer": "ipython3",
   "version": "3.10.10"
  },
  "orig_nbformat": 4,
  "vscode": {
   "interpreter": {
    "hash": "437d2f9cc7c9758e5462207d00477b27948c8c7181cefeb9cbc63204a2341966"
   }
  }
 },
 "nbformat": 4,
 "nbformat_minor": 2
}
